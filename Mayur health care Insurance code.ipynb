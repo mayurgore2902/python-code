{
 "cells": [
  {
   "cell_type": "code",
   "execution_count": 5,
   "id": "64ff1292",
   "metadata": {},
   "outputs": [],
   "source": [
    "def calculate_health_premium(gender, birth_year, is_smoker):\n",
    "    \n",
    "    male_smoker_rate = 35000\n",
    "    male_non_smoker_discount = 0.10\n",
    "    male_non_smoker_rate = male_smoker_rate - (male_smoker_rate * male_non_smoker_discount)\n",
    "\n",
    "    female_smoker_rate = 30000\n",
    "    female_non_smoker_discount = 0.10\n",
    "    female_non_smoker_rate = female_smoker_rate - (female_smoker_rate * female_non_smoker_discount)\n",
    "\n",
    "    \n",
    "    if gender == 'male':\n",
    "        if 1990 <= birth_year <= 2000:\n",
    "            if is_smoker == 'yes':\n",
    "                print(f\"Your annual premium is Rs {male_smoker_rate}\")\n",
    "            else:\n",
    "                print(f\"Your annual premium is Rs {male_non_smoker_rate}\")\n",
    "        elif 1970 <= birth_year < 1990:\n",
    "            if is_smoker == 'yes':\n",
    "                print(f\"Your annual premium is Rs 40000\")\n",
    "            else:\n",
    "                print(f\"Your annual premium is Rs {40000 - (40000 * 0.05)}\")\n",
    "        else:\n",
    "            print(\"Premium calculation not applicable for the given criteria.\")\n",
    "    elif gender == 'female':\n",
    "        if 1990 <= birth_year <= 2000:\n",
    "            if is_smoker == 'yes':\n",
    "                print(f\"Your annual premium is Rs {female_smoker_rate}\")\n",
    "            else:\n",
    "                print(f\"Your annual premium is Rs {female_non_smoker_rate}\")\n",
    "        elif 1970 <= birth_year < 1990:\n",
    "            if is_smoker == 'yes':\n",
    "                print(f\"Your annual premium is Rs 35000\")\n",
    "            else:\n",
    "                print(f\"Your annual premium is Rs {35000 - (35000 * 0.05)}\")\n",
    "        else:\n",
    "            print(\"Premium calculation not applicable for the given criteria.\")\n",
    "    else:\n",
    "        print(\"Invalid gender. Please enter 'male' or 'female'.\")"
   ]
  },
  {
   "cell_type": "code",
   "execution_count": 21,
   "id": "25ef02a4",
   "metadata": {},
   "outputs": [
    {
     "name": "stdout",
     "output_type": "stream",
     "text": [
      "Your annual premium is Rs 40000\n"
     ]
    }
   ],
   "source": [
    "calculate_health_premium('male',1975,'yes')"
   ]
  },
  {
   "cell_type": "code",
   "execution_count": null,
   "id": "923829d4",
   "metadata": {},
   "outputs": [],
   "source": []
  }
 ],
 "metadata": {
  "kernelspec": {
   "display_name": "Python 3 (ipykernel)",
   "language": "python",
   "name": "python3"
  },
  "language_info": {
   "codemirror_mode": {
    "name": "ipython",
    "version": 3
   },
   "file_extension": ".py",
   "mimetype": "text/x-python",
   "name": "python",
   "nbconvert_exporter": "python",
   "pygments_lexer": "ipython3",
   "version": "3.9.7"
  }
 },
 "nbformat": 4,
 "nbformat_minor": 5
}
