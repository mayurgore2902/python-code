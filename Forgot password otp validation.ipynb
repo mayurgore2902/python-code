{
 "cells": [
  {
   "cell_type": "code",
   "execution_count": 1,
   "id": "2e74043e",
   "metadata": {},
   "outputs": [],
   "source": [
    "import numpy as np\n",
    "\n",
    "def validate_credentials():\n",
    "    registered_id = \"data_science@xyz.com\"\n",
    "    password = \"123456\"\n",
    "    \n",
    "    user_id = input(\"Enter your user id: \")\n",
    "    user_password = input(\"Enter your password: \")\n",
    "    \n",
    "    if user_id == registered_id and user_password == password:\n",
    "        print(\"Login successful!\")\n",
    "    else:\n",
    "        forgot_password = input(\"Incorrect user id or password. Forgot password? (Y/N): \")\n",
    "        if forgot_password.upper() == 'Y':\n",
    "            generate_otp()\n",
    "        else:\n",
    "            print(\"Please re-enter your details.\")\n",
    "            validate_credentials()\n",
    "\n",
    "def generate_otp():\n",
    "    otp = ''.join(str(x) for x in np.random.randint(0, 9, 6))\n",
    "    print(\"OTP has been sent to your registered email.\")\n",
    "    validate_otp(otp)\n",
    "\n",
    "def validate_otp(otp):\n",
    "    attempts = 0\n",
    "    max_attempts = 3\n",
    "    while attempts < max_attempts:\n",
    "        user_otp = input(\"Enter the 6-digit OTP sent to your email: \")\n",
    "        if user_otp == otp:\n",
    "            print(\"OTP validation successful. Password reset successful!\")\n",
    "            return\n",
    "        else:\n",
    "            attempts += 1\n",
    "            remaining_attempts = max_attempts - attempts\n",
    "            if remaining_attempts > 0:\n",
    "                print(f\"Incorrect OTP. {remaining_attempts} attempts remaining.\")\n",
    "            else:\n",
    "                print(\"Maximum attempts reached. Try again later.\")\n",
    "                return\n"
   ]
  },
  {
   "cell_type": "code",
   "execution_count": 2,
   "id": "c9d34ec9",
   "metadata": {},
   "outputs": [
    {
     "name": "stdout",
     "output_type": "stream",
     "text": [
      "Enter your user id: data_science@xyz.com\n",
      "Enter your password: 123456\n",
      "Login successful!\n"
     ]
    }
   ],
   "source": [
    "validate_credentials()"
   ]
  },
  {
   "cell_type": "code",
   "execution_count": null,
   "id": "a6082a1f",
   "metadata": {},
   "outputs": [],
   "source": []
  }
 ],
 "metadata": {
  "kernelspec": {
   "display_name": "Python 3 (ipykernel)",
   "language": "python",
   "name": "python3"
  },
  "language_info": {
   "codemirror_mode": {
    "name": "ipython",
    "version": 3
   },
   "file_extension": ".py",
   "mimetype": "text/x-python",
   "name": "python",
   "nbconvert_exporter": "python",
   "pygments_lexer": "ipython3",
   "version": "3.9.7"
  }
 },
 "nbformat": 4,
 "nbformat_minor": 5
}
